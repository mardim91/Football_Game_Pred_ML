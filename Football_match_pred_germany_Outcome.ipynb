{
 "cells": [
  {
   "cell_type": "code",
   "execution_count": 1,
   "metadata": {
    "collapsed": true,
    "scrolled": true
   },
   "outputs": [],
   "source": [
    "import sqlite3\n",
    "import numpy as np\n",
    "import pandas as pd\n",
    "import xml.etree.ElementTree as ET\n",
    "from sklearn.feature_selection import RFE\n",
    "from sklearn.linear_model import LogisticRegression\n",
    "from sklearn.preprocessing import StandardScaler\n",
    "import statsmodels.api as sm\n",
    "import matplotlib.pyplot as plt\n",
    "import seaborn as sns\n",
    "from sklearn import metrics\n",
    "from sklearn.utils import resample\n",
    "from sklearn.model_selection import RandomizedSearchCV\n",
    "from sklearn.model_selection import GridSearchCV\n",
    "from sklearn.model_selection import ShuffleSplit\n",
    "import math\n",
    "from sklearn.ensemble import RandomForestClassifier\n",
    "from sklearn import svm\n",
    "from sklearn.naive_bayes import GaussianNB\n",
    "from sklearn.neighbors import KNeighborsClassifier\n",
    "from sklearn.model_selection import cross_val_score\n",
    "from sklearn.metrics import classification_report\n",
    "from sklearn import svm\n",
    "import xgboost as xgb\n",
    "import joblib\n",
    "import warnings\n",
    "warnings.filterwarnings('ignore')\n",
    "%matplotlib inline\n",
    "\n",
    "def drop_players_columns(match_df):\n",
    "    match_df = match_df[match_df.columns.drop(list(match_df.filter(regex='player')))]\n",
    "    return match_df\n",
    "\n",
    "def keep_certain_bookeepers(match_df):\n",
    "    \n",
    "    col_list = match_df.columns.tolist()\n",
    "    cols_to_use = col_list[:len(col_list)-24]\n",
    "    match_df = match_df[cols_to_use]\n",
    "    return match_df\n",
    "\n",
    "def create_class_label(match_df):\n",
    "    #Home Win = 1\n",
    "    #Home Defeat = -1\n",
    "    #Draw = 0\n",
    "    conditions = [(match_df['home_team_goal'] > match_df['away_team_goal']),\n",
    "                  (match_df['home_team_goal'] < match_df['away_team_goal'])]\n",
    "\n",
    "    choices = [1, -1]\n",
    "\n",
    "    match_df['result'] = np.select(conditions, choices, default=0)\n",
    "    return match_df\n",
    "\n",
    "def calculate_total_goals(match_df):\n",
    "    #This function calculates total gols fromthe sum\n",
    "    #of home and away goals. We do that because currently\n",
    "    #the goals are in xml format which is not helpful\n",
    "    \n",
    "    match_df = match_df.drop(['goal'],axis=1)\n",
    "    match_df['total_goals'] = match_df['home_team_goal'] + match_df['away_team_goal']\n",
    "    return match_df\n",
    "\n",
    "def parse_xml_columns(match_df):\n",
    "    match_df['home_shoton'] = 0\n",
    "    match_df['away_shoton'] = 0\n",
    "    match_df['home_shotoff'] = 0\n",
    "    match_df['away_shotoff'] = 0\n",
    "    match_df['home_fouls'] = 0\n",
    "    match_df['away_fouls'] = 0\n",
    "    match_df['home_corner'] = 0\n",
    "    match_df['away_corner'] = 0\n",
    "    match_df['home_ycard'] = 0\n",
    "    match_df['away_ycard'] = 0\n",
    "    match_df['home_rcard'] = 0\n",
    "    match_df['away_rcard'] = 0\n",
    "    match_df['home_cross'] = 0\n",
    "    match_df['away_cross'] = 0\n",
    "    match_df['home_possession'] = 0.0\n",
    "    match_df['away_possession'] = 0.0\n",
    "    \n",
    "    for index, row in match_df.iterrows():\n",
    "        home_team = row['home_team_api_id']\n",
    "        away_team = row['away_team_api_id'] \n",
    "        \n",
    "        root_shoton = ET.fromstring(row['shoton'])\n",
    "        root_shotoff = ET.fromstring(row['shotoff'])\n",
    "        root_foulcommit = ET.fromstring(row['foulcommit'])\n",
    "        root_corner = ET.fromstring(row['corner'])\n",
    "        root_card = ET.fromstring(row['card'])\n",
    "        root_cross = ET.fromstring(row['cross'])\n",
    "        root_possession = ET.fromstring(row['possession'])\n",
    "        \n",
    "        for value in root_shoton.findall('value'):\n",
    "            team = value.find('team')\n",
    "            if team is None:\n",
    "                continue\n",
    "            if (team.text == str(home_team)):\n",
    "                match_df.at[index,'home_shoton'] = match_df.at[index,'home_shoton']+1\n",
    "            if (team.text == str(away_team)):\n",
    "                match_df.at[index,'away_shoton'] = match_df.at[index,'away_shoton']+1\n",
    "                \n",
    "        for value in root_shotoff.findall('value'):\n",
    "            team = value.find('team')\n",
    "            if team is None:\n",
    "                continue\n",
    "            if (team.text == str(home_team)):\n",
    "                match_df.at[index,'home_shotoff'] = match_df.at[index,'home_shotoff']+1\n",
    "            if (team.text == str(away_team)):\n",
    "                match_df.at[index,'away_shotoff'] = match_df.at[index,'away_shotoff']+1\n",
    "                \n",
    "        for value in root_foulcommit.findall('value'):\n",
    "            team = value.find('team')\n",
    "            if team is None:\n",
    "                continue\n",
    "            if (team.text == str(home_team)):\n",
    "                match_df.at[index,'home_fouls'] = match_df.at[index,'home_fouls']+1\n",
    "            if (team.text == str(away_team)):\n",
    "                match_df.at[index,'away_fouls'] = match_df.at[index,'away_fouls']+1\n",
    "                \n",
    "        for value in root_corner.findall('value'):\n",
    "            team = value.find('team')\n",
    "            if team is None:\n",
    "                continue\n",
    "            if (team.text == str(home_team)):\n",
    "                match_df.at[index,'home_corner'] = match_df.at[index,'home_corner']+1\n",
    "            if (team.text == str(away_team)):\n",
    "                match_df.at[index,'away_corner'] = match_df.at[index,'away_corner']+1\n",
    "                \n",
    "        if root_card.findall('value'):           \n",
    "            for value in root_card.findall('value'):\n",
    "                card_type = value.find('comment').text\n",
    "                team = value.find('team')\n",
    "                if team is None:\n",
    "                    continue\n",
    "                if (team.text == str(home_team)):\n",
    "                    if card_type in ['r', 'y2']:\n",
    "                        match_df.at[index,'home_rcard'] = match_df.at[index,'home_rcard']+1\n",
    "                    if card_type == 'y':\n",
    "                        match_df.at[index,'home_ycard'] = match_df.at[index,'home_ycard']+1\n",
    "                if (team.text == str(away_team)):\n",
    "                    if card_type in ['r', 'y2']:\n",
    "                        match_df.at[index,'away_rcard'] = match_df.at[index,'away_rcard']+1\n",
    "                    if card_type == 'y':\n",
    "                        match_df.at[index,'away_ycard'] = match_df.at[index,'away_ycard']+1\n",
    "                        \n",
    "        for value in root_cross.findall('value'):\n",
    "            cross_type = value.find('type').text\n",
    "            team = value.find('team')\n",
    "            if team is None:\n",
    "                continue\n",
    "            if cross_type != 'cross':\n",
    "                continue\n",
    "            if (team.text == str(home_team)):\n",
    "                match_df.at[index,'home_cross'] = match_df.at[index,'home_cross']+1\n",
    "            if (team.text == str(away_team)):\n",
    "                match_df.at[index,'away_cross'] = match_df.at[index,'away_cross']+1\n",
    "        value_list_len = float(len(root_possession.findall('value')))\n",
    "        if value_list_len != 0:\n",
    "            home_pos_sum = 0\n",
    "            away_pos_sum = 0\n",
    "            for value in root_possession.findall('value'):\n",
    "                homepos = value.find('homepos')\n",
    "                awaypos = value.find('awaypos')\n",
    "                if (homepos is None) or (awaypos is None):\n",
    "                    value_list_len = value_list_len - 1\n",
    "                    continue\n",
    "                home_pos_sum = home_pos_sum + int(homepos.text)\n",
    "                away_pos_sum = away_pos_sum + int(awaypos.text)\n",
    "            match_df.at[index,'home_possession'] = round((home_pos_sum/value_list_len),2)\n",
    "            match_df.at[index,'away_possession'] = round((away_pos_sum/value_list_len),2)\n",
    "        else:\n",
    "            match_df.at[index,'home_possession'] = 50\n",
    "            match_df.at[index,'away_possession'] = 50\n",
    "    match_df = match_df.drop(['shoton','shotoff','foulcommit','card','cross','corner','possession'], axis = 1)\n",
    "            \n",
    "    return match_df\n",
    "\n",
    "def calculate_ma_ca_elo(match_df,teams_list):\n",
    "    team_df_dict = dict()\n",
    "    for item in teams_list:\n",
    "        team_df = match_df.loc[(match_df['home_team_api_id'] == item) | (match_df['away_team_api_id'] == item)]\n",
    "        team_df['goals'] = 0\n",
    "        team_df['shotons'] = 0\n",
    "        team_df['shotoffs'] = 0\n",
    "        team_df['fouls'] = 0\n",
    "        team_df['corners'] = 0\n",
    "        team_df['ycards'] = 0\n",
    "        team_df['rcards'] = 0\n",
    "        team_df['crosses'] = 0\n",
    "        team_df['possessions'] = 0.0\n",
    "        team_df['elo_rate'] = 0\n",
    "        for index, row in team_df.iterrows():\n",
    "            if row['home_team_api_id'] == item:\n",
    "                team_df.at[index,'goals'] = row['home_team_goal']\n",
    "                team_df.at[index,'shotons'] = row['home_shoton']\n",
    "                team_df.at[index,'shotoffs'] = row['home_shotoff']\n",
    "                team_df.at[index,'fouls'] = row['home_fouls']\n",
    "                team_df.at[index,'corners'] = row['home_corner']\n",
    "                team_df.at[index,'ycards'] = row['home_ycard']\n",
    "                team_df.at[index,'rcards'] = row['home_rcard']\n",
    "                team_df.at[index,'crosses'] = row['home_cross']\n",
    "                team_df.at[index,'possessions'] = row['home_possession']\n",
    "                team_df.at[index,'elo_rate'] = row['home_elo']\n",
    "            if row['away_team_api_id'] == item:\n",
    "                team_df.at[index,'goals'] = row['away_team_goal']\n",
    "                team_df.at[index,'shotons'] = row['away_shoton']\n",
    "                team_df.at[index,'shotoffs'] = row['away_shotoff']\n",
    "                team_df.at[index,'fouls'] = row['away_fouls']\n",
    "                team_df.at[index,'corners'] = row['away_corner']\n",
    "                team_df.at[index,'ycards'] = row['away_ycard']\n",
    "                team_df.at[index,'rcards'] = row['away_rcard']\n",
    "                team_df.at[index,'crosses'] = row['away_cross']\n",
    "                team_df.at[index,'possessions'] = row['away_possession']\n",
    "                team_df.at[index,'elo_rate'] = row['away_elo']\n",
    "        for col in ['goals','shotons','shotoffs', 'fouls', 'corners','ycards','rcards','crosses','possessions']:\n",
    "            team_df['ma_'+col] = team_df[col].rolling(window=5).mean()\n",
    "            team_df['ca_'+col] = team_df[col].expanding().mean()\n",
    "            team_df['ma_pow2_'+col] = np.power((team_df['ma_'+col]),2)\n",
    "            team_df['ca_pow2_'+col] = np.power((team_df['ca_'+col]),2)\n",
    "            team_df['ma_sqrt_'+col]=team_df['ma_'+col]**(1/2)\n",
    "            team_df['ca_sqrt_'+col]=team_df['ca_'+col]**(1/2)\n",
    "        team_df_dict.update({str(item): team_df})\n",
    "    return team_df_dict\n",
    "\n",
    "\n",
    "def shift_ma_ca_elo_columns(team_df_dict):\n",
    "    ca_ma_col_list = list()\n",
    "    for team in team_df_dict:\n",
    "        for col in team_df_dict[team].columns:\n",
    "            if ('ca_' in col) or ('ma_' in col) or ('elo_rate' in col):\n",
    "                if col not in ca_ma_col_list:\n",
    "                    ca_ma_col_list.append(col)\n",
    "                team_df_dict[team][col] = team_df_dict[team][col].shift(1)\n",
    "    return team_df_dict, ca_ma_col_list\n",
    "\n",
    "def add_ca_ma_elo_col_to_main_df(team_shifted_dict, match_df,ca_ma_col_names):\n",
    "    for team in team_shifted_dict:\n",
    "        for index, team_row in team_shifted_dict[team].iterrows():\n",
    "            if team == str(team_row['home_team_api_id']):\n",
    "                for col in ca_ma_col_names:\n",
    "                    match_df.at[index,'home_'+col] = team_row[col]\n",
    "            if team == str(team_row['away_team_api_id']):\n",
    "                for col in ca_ma_col_names:\n",
    "                    match_df.at[index,'away_'+col] = team_row[col]\n",
    "\n",
    "    return match_df\n",
    "\n",
    "def calculate_elo_rating(elo_df,team_df):\n",
    "    k=30\n",
    "    team_elo_dict = dict()\n",
    "    elo_df['home_elo'] = 0\n",
    "    elo_df['away_elo'] = 0\n",
    "    \n",
    "    temp_df = pd.merge(team_df,elo_df, left_on='team_api_id',right_on = \"away_team_api_id\", how='inner')\n",
    "    team_list = temp_df.groupby(['team_api_id']).mean().reset_index()['team_api_id'].tolist()\n",
    "    \n",
    "    for team in team_list:\n",
    "        team_elo_dict[team]=1000\n",
    "    \n",
    "    for index, row in elo_df.iterrows():\n",
    "        home_team = row['home_team_api_id']\n",
    "        away_team = row['away_team_api_id']\n",
    "        match_result = row['result']\n",
    "        home_rating = team_elo_dict[home_team]\n",
    "        away_rating = team_elo_dict[away_team]\n",
    "        \n",
    "        prob_home = 1.0 * 1.0 / (1 + 1.0 * math.pow(10, 1.0 * (away_rating - home_rating) / 400))\n",
    "        prob_away = 1.0 * 1.0 / (1 + 1.0 * math.pow(10, 1.0 * (home_rating - away_rating) / 400))\n",
    "        \n",
    "        if match_result == 1:\n",
    "            home_result=1\n",
    "            away_result=0\n",
    "        elif match_result == -1:\n",
    "            home_result=0\n",
    "            away_result=1\n",
    "        else:\n",
    "            home_result=0.5\n",
    "            away_result=0.5\n",
    "        \n",
    "        home_rating_new = round(home_rating + k*(home_result - prob_home))\n",
    "        away_rating_new = round(away_rating + k*(away_result - prob_away))\n",
    "        \n",
    "        if (home_rating_new < 0 or home_rating_new < 100):\n",
    "            home_rating_new = 100\n",
    "        if (away_rating_new < 0 or away_rating_new < 100):\n",
    "            away_rating_new = 100\n",
    "        \n",
    "        elo_df.at[index,'home_elo'] = home_rating_new\n",
    "        elo_df.at[index,'away_elo'] = away_rating_new\n",
    "        \n",
    "        team_elo_dict[home_team]= home_rating_new\n",
    "        team_elo_dict[away_team]= away_rating_new\n",
    "    return elo_df\n",
    "\n",
    "def add_strength_points_to_df(strength_df,joined_df):\n",
    "    strength_df['home_strength'] = np.nan\n",
    "    strength_df['away_strength'] = np.nan\n",
    "    for index, row in strength_df.iterrows():\n",
    "        home_team = row['home_team_api_id']\n",
    "        away_team = row['away_team_api_id']\n",
    "        current_season = row['season']\n",
    "        for i in range(1,11):\n",
    "            change_current_season_format=\"until-\"+\"-\".join([str(int(year)-i) for year in current_season.split(\"/\")])\n",
    "\n",
    "            try:\n",
    "                home_strength=int(joined_df.loc[(joined_df['team_api_id'] == home_team) & (joined_df['Season'] == change_current_season_format)]['Strength'])\n",
    "                break\n",
    "            except:\n",
    "                home_strength = 0\n",
    "                continue\n",
    "        for i in range(1,11):\n",
    "            change_current_season_format=\"until-\"+\"-\".join([str(int(year)-i) for year in current_season.split(\"/\")])\n",
    "            try:\n",
    "                away_strength=int(joined_df.loc[(joined_df['team_api_id'] == away_team) & (joined_df['Season'] == change_current_season_format)]['Strength'])\n",
    "                break\n",
    "            except:\n",
    "                away_strength = 0\n",
    "                continue\n",
    "\n",
    "        strength_df.at[index,'home_strength'] = home_strength\n",
    "        strength_df.at[index,'away_strength'] = away_strength\n",
    "    return strength_df\n",
    "\n",
    "def calculate_previous_games_results_goal_diff(pr_games_df, team_df):\n",
    "    # I will calculate for 5 previous games #\n",
    "    pr_games_df['pr_perc_home_win'] = 0.0\n",
    "    pr_games_df['pr_perc_draw'] = 0.0\n",
    "    pr_games_df['pr_perc_away_win'] = 0.0\n",
    "    pr_games_df['goals_diff'] = 0\n",
    "    temp_df = pd.merge(team_df,pr_games_df, left_on='team_api_id',right_on = \"away_team_api_id\", how='inner')\n",
    "    team_list = temp_df.groupby(['team_api_id']).mean().reset_index()['team_api_id'].tolist()\n",
    "    temp_team_list = team_list.copy()\n",
    "    for team in team_list:\n",
    "        temp_team_list.remove(team)\n",
    "        for opponent in temp_team_list:\n",
    "            temp_df = pr_games_df.loc[((pr_games_df['home_team_api_id'] == team) & (pr_games_df['away_team_api_id'] == opponent))|\n",
    "                                      ((pr_games_df['home_team_api_id'] == opponent) & (pr_games_df['away_team_api_id'] == team))]\n",
    "            \n",
    "            if temp_df.empty:\n",
    "                continue\n",
    "            for index, row in temp_df.iterrows():\n",
    "                keep_win_dict = {team: 0, opponent: 0}\n",
    "                keep_goals_dict = {team: 0, opponent: 0}\n",
    "                team_percent = 0.0\n",
    "                opponent_percent = 0.0\n",
    "                draw_percent = 0.0\n",
    "                subset_temp_df = temp_df.loc[:index].copy()\n",
    "                subset_temp_df= subset_temp_df.drop(index)\n",
    "                \n",
    "                if not subset_temp_df.empty:\n",
    "                    \n",
    "                    for sub_index, sub_row in subset_temp_df.iloc[-5:].iterrows():\n",
    "                        \n",
    "                        if sub_row['result'] == 1:\n",
    "                            keep_win_dict[sub_row['home_team_api_id']] = keep_win_dict[sub_row['home_team_api_id']] + 1\n",
    "                        if sub_row['result'] == -1:\n",
    "                            keep_win_dict[sub_row['away_team_api_id']] = keep_win_dict[sub_row['away_team_api_id']] + 1\n",
    "                        ### for the goals ###    \n",
    "                        keep_goals_dict[sub_row['home_team_api_id']] = keep_goals_dict[sub_row['home_team_api_id']] + sub_row['home_team_goal']\n",
    "                        keep_goals_dict[sub_row['away_team_api_id']] = keep_goals_dict[sub_row['away_team_api_id']] + sub_row['away_team_goal']\n",
    "                        #####################\n",
    "                    team_percent = keep_win_dict[team] / len(subset_temp_df.iloc[-5:])\n",
    "                    opponent_percent = keep_win_dict[opponent] / len(subset_temp_df.iloc[-5:])\n",
    "                    draw_percent = 1 - (team_percent + opponent_percent)\n",
    "                    \n",
    "                    if team == row['home_team_api_id']:\n",
    "                        pr_games_df.at[index,'pr_perc_home_win'] = team_percent\n",
    "                        pr_games_df.at[index,'pr_perc_away_win'] = opponent_percent\n",
    "                        pr_games_df.at[index,'pr_perc_draw'] = draw_percent\n",
    "                    \n",
    "                    if team == row['away_team_api_id']:\n",
    "                        pr_games_df.at[index,'pr_perc_home_win'] = opponent_percent\n",
    "                        pr_games_df.at[index,'pr_perc_away_win'] = team_percent\n",
    "                        pr_games_df.at[index,'pr_perc_draw'] = draw_percent\n",
    "                        \n",
    "                    #### for the goals ###\n",
    "                    if team == row['home_team_api_id']:\n",
    "                        if keep_goals_dict[team] > keep_goals_dict[opponent]:\n",
    "                            pr_games_df.at[index,'goals_diff'] = keep_goals_dict[team] - keep_goals_dict[opponent]\n",
    "                        if keep_goals_dict[team] < keep_goals_dict[opponent]:\n",
    "                            pr_games_df.at[index,'goals_diff'] = keep_goals_dict[team] - keep_goals_dict[opponent]\n",
    "                            \n",
    "                    if team == row['away_team_api_id']:\n",
    "                        if keep_goals_dict[team] > keep_goals_dict[opponent]:\n",
    "                            pr_games_df.at[index,'goals_diff'] = keep_goals_dict[opponent] - keep_goals_dict[team]\n",
    "                        if keep_goals_dict[team] < keep_goals_dict[opponent]:\n",
    "                            pr_games_df.at[index,'goals_diff'] = keep_goals_dict[opponent] - keep_goals_dict[team]\n",
    "                    ###############################\n",
    "                         \n",
    "    return pr_games_df\n",
    "    \n",
    "\n",
    "                \n",
    "    \n",
    "    \n",
    "    \n"
   ]
  },
  {
   "cell_type": "code",
   "execution_count": 16,
   "metadata": {
    "collapsed": true,
    "scrolled": true
   },
   "outputs": [],
   "source": [
    "# Create the connection\n",
    "cnx = sqlite3.connect(r'database.sqlite')\n",
    "# England id = 1729\n",
    "# Germany id = 7809\n",
    "match_df_germany_raw = pd.read_sql_query(\"SELECT * FROM Match WHERE country_id == 7809\", cnx)\n",
    "\n",
    "\n",
    "match_df_germany = match_df_germany_raw.copy()\n",
    "\n",
    "team_df = pd.read_sql_query(\"SELECT * FROM Team\", cnx)\n",
    "match_df_germany = drop_players_columns(match_df_germany)\n",
    "match_df_germany = keep_certain_bookeepers(match_df_germany)\n",
    "\n",
    "match_df_germany = match_df_germany.dropna()\n",
    "match_df_germany = create_class_label(match_df_germany)\n",
    "match_df_germany = calculate_total_goals(match_df_germany)\n",
    "match_df_germany = parse_xml_columns(match_df_germany)\n",
    "#### ELO RATING ####\n",
    "match_df_for_elo = match_df_germany.copy()\n",
    "elo_df_w_ratings = calculate_elo_rating(match_df_for_elo,team_df)\n",
    "match_df_germany = elo_df_w_ratings\n",
    "#########################################\n",
    "\n",
    "\n",
    "###### Add previous game results and difference in goals ##############\n",
    "match_df_for_previous_games = match_df_germany.copy()\n",
    "previous_games_results_df = calculate_previous_games_results_goal_diff(match_df_for_previous_games, team_df)\n",
    "match_df_germany = previous_games_results_df\n",
    "#######################################################################\n",
    "\n",
    "\n",
    "##### Strength Team Dataframe Joined #################\n",
    "strength_df=pd.read_csv(r'strength_bund.csv')\n",
    "\n",
    "strength_team_join=pd.merge(team_df,strength_df, left_on='team_long_name',right_on = \"TeamName\", how='inner')\n",
    "match_df_for_strength = match_df_germany.copy()\n",
    "match_df_germany=add_strength_points_to_df(match_df_for_strength,strength_team_join)\n",
    "#################################################\n",
    "###################################################################################################################\n",
    "team_df_germany = pd.merge(team_df,match_df_germany, left_on='team_api_id',right_on = \"away_team_api_id\", how='inner')\n",
    "team_germany_list = team_df_germany.groupby(['team_api_id']).mean().reset_index()['team_api_id'].tolist()\n",
    "###################################################################################################################\n",
    "team_df_dict = calculate_ma_ca_elo(match_df_germany,team_germany_list)\n",
    "team_df_dict_shifted, ca_ma_col_names= shift_ma_ca_elo_columns(team_df_dict)\n",
    "\n",
    "#########################################\n"
   ]
  },
  {
   "cell_type": "code",
   "execution_count": 17,
   "metadata": {
    "collapsed": true,
    "scrolled": true
   },
   "outputs": [],
   "source": [
    "match_df_germany_ca_ma = add_ca_ma_elo_col_to_main_df(team_df_dict_shifted, match_df_germany,ca_ma_col_names)\n"
   ]
  },
  {
   "cell_type": "code",
   "execution_count": 18,
   "metadata": {
    "collapsed": true
   },
   "outputs": [],
   "source": [
    "match_df_germany_final = match_df_germany_ca_ma.dropna()\n"
   ]
  },
  {
   "cell_type": "code",
   "execution_count": 58,
   "metadata": {
    "collapsed": true
   },
   "outputs": [],
   "source": [
    "match_df_germany_train = match_df_germany_final.loc[(match_df_germany_final['season'] != '2015/2016')]\n",
    "match_df_germany_test = match_df_germany_final.loc[(match_df_germany_final['season'] == '2015/2016')]\n"
   ]
  },
  {
   "cell_type": "code",
   "execution_count": 59,
   "metadata": {
    "collapsed": true
   },
   "outputs": [],
   "source": [
    "#### BALANCE CLASSES ###\n",
    "\n",
    "df_home_w = match_df_germany_train[match_df_germany_train.result == 1]\n",
    "df_draw = match_df_germany_train[match_df_germany_train.result == 0]\n",
    "df_away_w = match_df_germany_train[match_df_germany_train.result == -1]\n",
    "df_draw_upsampled = resample(df_draw, \n",
    "                             replace=True,\n",
    "                             n_samples=len(df_home_w),\n",
    "                             random_state=8)\n",
    "df_away_upsampled = resample(df_away_w, \n",
    "                             replace=True,\n",
    "                             n_samples=len(df_home_w),\n",
    "                             random_state=8)\n",
    "\n",
    "match_df_germany_train = pd.concat([df_home_w, df_draw_upsampled, df_away_upsampled])\n"
   ]
  },
  {
   "cell_type": "code",
   "execution_count": 60,
   "metadata": {
    "collapsed": true,
    "scrolled": false
   },
   "outputs": [],
   "source": [
    "X_train = match_df_germany_train.iloc[:,37:]\n",
    "Y_train = match_df_germany_train['result']\n",
    "X_test = match_df_germany_test.iloc[:,37:]\n",
    "Y_test = match_df_germany_test['result']\n",
    "sc=StandardScaler()\n",
    "X_train_std=sc.fit_transform(X_train)\n",
    "X_test_std=sc.transform(X_test)"
   ]
  },
  {
   "cell_type": "code",
   "execution_count": 61,
   "metadata": {},
   "outputs": [
    {
     "name": "stdout",
     "output_type": "stream",
     "text": [
      "['away_ma_goals', 'away_ma_pow2_goals', 'away_ca_pow2_goals', 'away_ma_sqrt_goals', 'away_ca_sqrt_goals', 'away_ma_shotons', 'away_ca_shotons', 'away_ca_sqrt_shotons', 'away_ma_shotoffs', 'away_ca_shotoffs', 'away_ma_pow2_shotoffs', 'away_ca_pow2_shotoffs', 'away_ma_sqrt_shotoffs', 'away_ca_sqrt_shotoffs', 'away_ma_corners', 'away_ma_sqrt_corners', 'away_ma_ycards', 'away_ma_sqrt_ycards', 'away_ma_rcards', 'away_ma_pow2_rcards', 'away_ma_sqrt_rcards', 'away_ma_crosses', 'away_ca_pow2_crosses', 'away_ma_sqrt_crosses', 'away_ca_sqrt_crosses', 'away_ma_pow2_possessions', 'away_ma_sqrt_possessions', 'home_elo_rate', 'home_ma_shotons', 'home_ma_pow2_shotons', 'home_ma_sqrt_shotons', 'home_ma_fouls', 'home_ma_pow2_fouls', 'home_ma_sqrt_fouls', 'home_ma_ycards', 'home_ma_sqrt_ycards', 'home_ma_rcards', 'home_ca_rcards', 'home_ma_pow2_rcards', 'home_ca_pow2_rcards', 'home_ma_sqrt_rcards', 'home_ca_sqrt_rcards', 'home_ma_crosses', 'home_ca_crosses', 'home_ma_sqrt_crosses', 'home_ca_sqrt_crosses', 'home_ma_pow2_possessions', 'home_ca_pow2_possessions', 'home_ma_sqrt_possessions', 'home_ca_sqrt_possessions']\n",
      "116\n"
     ]
    }
   ],
   "source": [
    "#Recursive Feature Elimination\n",
    "logreg = LogisticRegression(max_iter=1000)\n",
    "rfe = RFE(logreg,50)\n",
    "rfe = rfe.fit(X_train_std, Y_train.values.ravel())\n",
    "\n",
    "\n",
    "print([i[1] for i in zip(rfe.support_, X_train.columns) if i[0]])\n",
    "print(len(X_train.columns))    \n"
   ]
  },
  {
   "cell_type": "code",
   "execution_count": 62,
   "metadata": {
    "collapsed": true
   },
   "outputs": [],
   "source": [
    "\n",
    "X_train_std_final=sc.fit_transform(X_train[list(X_train.columns[rfe.support_])])\n",
    "X_test_std_final=sc.transform(X_test[list(X_test.columns[rfe.support_])])"
   ]
  },
  {
   "cell_type": "code",
   "execution_count": 12,
   "metadata": {
    "collapsed": true
   },
   "outputs": [],
   "source": [
    "########### Logistic Regression ##########\n"
   ]
  },
  {
   "cell_type": "code",
   "execution_count": 76,
   "metadata": {},
   "outputs": [
    {
     "name": "stdout",
     "output_type": "stream",
     "text": [
      "Fitting 3 folds for each of 50 candidates, totalling 150 fits\n"
     ]
    },
    {
     "name": "stderr",
     "output_type": "stream",
     "text": [
      "[Parallel(n_jobs=1)]: Using backend SequentialBackend with 1 concurrent workers.\n",
      "[Parallel(n_jobs=1)]: Done 150 out of 150 | elapsed:   58.0s finished\n"
     ]
    },
    {
     "name": "stdout",
     "output_type": "stream",
     "text": [
      "{'solver': 'sag', 'penalty': 'l2', 'multi_class': 'multinomial', 'class_weight': None, 'C': 0.5}\n",
      "\n",
      "The mean accuracy of a model with these hyperparameters is:\n",
      "0.36973590292648106\n",
      "Best Estimator:\n",
      "LogisticRegression(C=0.5, class_weight=None, dual=False, fit_intercept=True,\n",
      "                   intercept_scaling=1, l1_ratio=None, max_iter=1000,\n",
      "                   multi_class='multinomial', n_jobs=None, penalty='l2',\n",
      "                   random_state=8, solver='sag', tol=0.0001, verbose=0,\n",
      "                   warm_start=False)\n"
     ]
    }
   ],
   "source": [
    "########## Randomized Search CV ########\n",
    "# C\n",
    "C = [float(x) for x in np.linspace(start = 0.1, stop = 1, num = 10)]\n",
    "\n",
    "# multi_class\n",
    "multi_class = ['multinomial']\n",
    "\n",
    "# solver\n",
    "solver = ['newton-cg', 'sag', 'saga', 'lbfgs']\n",
    " \n",
    "# class_weight\n",
    "class_weight = ['balanced', None]\n",
    "\n",
    "# penalty\n",
    "penalty = ['l1','l2']\n",
    "\n",
    "# Create the random grid\n",
    "random_grid = {'C': C,\n",
    "               'multi_class': multi_class,\n",
    "               'solver': solver,\n",
    "               'class_weight': class_weight,\n",
    "               'penalty': penalty}\n",
    "# First create the base model to tune\n",
    "logreg = LogisticRegression(random_state=8,max_iter=1000)\n",
    "\n",
    "# Definition of the random search\n",
    "random_search = RandomizedSearchCV(estimator=logreg,\n",
    "                                   param_distributions=random_grid,\n",
    "                                   n_iter=50,\n",
    "                                   scoring='accuracy',\n",
    "                                   cv=3, \n",
    "                                   verbose=1, \n",
    "                                   random_state=8)\n",
    "\n",
    "# Fit the random search model\n",
    "random_search.fit(X_train_std_final, Y_train.values.ravel())\n",
    "print(random_search.best_params_)\n",
    "print(\"\")\n",
    "print(\"The mean accuracy of a model with these hyperparameters is:\")\n",
    "print(random_search.best_score_)\n",
    "print(\"Best Estimator:\")\n",
    "print(random_search.best_estimator_)"
   ]
  },
  {
   "cell_type": "code",
   "execution_count": 77,
   "metadata": {},
   "outputs": [
    {
     "name": "stdout",
     "output_type": "stream",
     "text": [
      "Fitting 3 folds for each of 10 candidates, totalling 30 fits\n"
     ]
    },
    {
     "name": "stderr",
     "output_type": "stream",
     "text": [
      "[Parallel(n_jobs=1)]: Using backend SequentialBackend with 1 concurrent workers.\n",
      "[Parallel(n_jobs=1)]: Done  30 out of  30 | elapsed:   11.7s finished\n"
     ]
    },
    {
     "name": "stdout",
     "output_type": "stream",
     "text": [
      "{'C': 0.5888888888888888, 'class_weight': None, 'multi_class': 'multinomial', 'penalty': 'l2', 'solver': 'sag'}\n",
      "\n",
      "The mean accuracy of a model with these hyperparameters is:\n",
      "0.46630630630630626\n",
      "Best Estimator:\n",
      "LogisticRegression(C=0.5888888888888888, class_weight=None, dual=False,\n",
      "                   fit_intercept=True, intercept_scaling=1, l1_ratio=None,\n",
      "                   max_iter=1000, multi_class='multinomial', n_jobs=None,\n",
      "                   penalty='l2', random_state=8, solver='sag', tol=0.0001,\n",
      "                   verbose=0, warm_start=False)\n"
     ]
    }
   ],
   "source": [
    "########## Grid Search ########\n",
    "# Create the parameter grid based on the results of random search \n",
    "C = [float(x) for x in np.linspace(start = 0.2, stop = 0.7, num = 10)]\n",
    "multi_class = ['multinomial']\n",
    "solver = ['sag']\n",
    "class_weight = [None]\n",
    "penalty = ['l2']\n",
    "\n",
    "param_grid = {'C': C,\n",
    "               'multi_class': multi_class,\n",
    "               'solver': solver,\n",
    "               'class_weight': class_weight,\n",
    "               'penalty': penalty}\n",
    "\n",
    "# Create a base model\n",
    "logreg = LogisticRegression(random_state=8,max_iter=1000)\n",
    "\n",
    "# Manually create the splits in CV in order to be able to fix a random_state (GridSearchCV doesn't have that argument)\n",
    "cv_sets = ShuffleSplit(n_splits = 3, test_size = .33, random_state = 8)\n",
    "\n",
    "# Instantiate the grid search model\n",
    "grid_search = GridSearchCV(estimator=logreg, \n",
    "                           param_grid=param_grid,\n",
    "                           scoring='accuracy',\n",
    "                           cv=cv_sets,\n",
    "                           verbose=1)\n",
    "\n",
    "# Fit the grid search to the data\n",
    "grid_search.fit(X_train_std_final, Y_train.values.ravel())\n",
    "print(grid_search.best_params_)\n",
    "print(\"\")\n",
    "print(\"The mean accuracy of a model with these hyperparameters is:\")\n",
    "print(grid_search.best_score_)\n",
    "print(\"Best Estimator:\")\n",
    "print(grid_search.best_estimator_)"
   ]
  },
  {
   "cell_type": "code",
   "execution_count": 78,
   "metadata": {},
   "outputs": [
    {
     "data": {
      "text/plain": [
       "LogisticRegression(C=0.5888888888888888, class_weight=None, dual=False,\n",
       "                   fit_intercept=True, intercept_scaling=1, l1_ratio=None,\n",
       "                   max_iter=1000, multi_class='multinomial', n_jobs=None,\n",
       "                   penalty='l2', random_state=8, solver='sag', tol=0.0001,\n",
       "                   verbose=0, warm_start=False)"
      ]
     },
     "execution_count": 78,
     "metadata": {},
     "output_type": "execute_result"
    }
   ],
   "source": [
    "logreg = LogisticRegression(C=0.5888888888888888, class_weight=None, dual=False,\n",
    "                   fit_intercept=True, intercept_scaling=1, l1_ratio=None,\n",
    "                   max_iter=1000, multi_class='multinomial', n_jobs=None,\n",
    "                   penalty='l2', random_state=8, solver='sag', tol=0.0001,\n",
    "                   verbose=0, warm_start=False)\n",
    "\n",
    "logreg.fit(X_train_std_final, Y_train.values.ravel())"
   ]
  },
  {
   "cell_type": "code",
   "execution_count": 79,
   "metadata": {
    "collapsed": true
   },
   "outputs": [],
   "source": [
    "y_pred = logreg.predict(X_test_std_final)"
   ]
  },
  {
   "cell_type": "code",
   "execution_count": 80,
   "metadata": {},
   "outputs": [
    {
     "data": {
      "text/plain": [
       "0.3602693602693603"
      ]
     },
     "execution_count": 80,
     "metadata": {},
     "output_type": "execute_result"
    }
   ],
   "source": [
    "logreg.score(X_test_std_final, Y_test.values.ravel())"
   ]
  },
  {
   "cell_type": "code",
   "execution_count": 81,
   "metadata": {},
   "outputs": [
    {
     "name": "stdout",
     "output_type": "stream",
     "text": [
      "              precision    recall  f1-score   support\n",
      "\n",
      "          -1       0.42      0.41      0.42        97\n",
      "           0       0.20      0.42      0.27        67\n",
      "           1       0.60      0.29      0.39       133\n",
      "\n",
      "    accuracy                           0.36       297\n",
      "   macro avg       0.41      0.37      0.36       297\n",
      "weighted avg       0.45      0.36      0.37       297\n",
      "\n"
     ]
    }
   ],
   "source": [
    "from sklearn.metrics import classification_report\n",
    "print(classification_report(Y_test.values.ravel(), y_pred))"
   ]
  },
  {
   "cell_type": "code",
   "execution_count": 82,
   "metadata": {},
   "outputs": [
    {
     "data": {
      "text/plain": [
       "Text(0.5, 15.0, 'Predicted label')"
      ]
     },
     "execution_count": 82,
     "metadata": {},
     "output_type": "execute_result"
    },
    {
     "data": {
      "image/png": "[encoded data removed]",
      "text/plain": [
       "<Figure size 432x288 with 2 Axes>"
      ]
     },
     "metadata": {},
     "output_type": "display_data"
    }
   ],
   "source": [
    "cnf_matrix = metrics.confusion_matrix(Y_test.values.ravel(), y_pred,labels=[1, 0, -1])\n",
    "cnf_matrix\n",
    "\n",
    "sns.heatmap(pd.DataFrame(cnf_matrix), annot=True, cmap=\"YlGnBu\" ,fmt='g',xticklabels=['Home Win', 'Draw', 'Away Win'], yticklabels=['Home Win', 'Draw', 'Away Win'])\n",
    "plt.tight_layout()\n",
    "plt.title('Confusion matrix', y=1.1)\n",
    "plt.ylabel('Actual label')\n",
    "plt.xlabel('Predicted label')"
   ]
  },
  {
   "cell_type": "code",
   "execution_count": 21,
   "metadata": {
    "collapsed": true
   },
   "outputs": [],
   "source": [
    "########### RANDOM FORRESTTTTT #############################"
   ]
  },
  {
   "cell_type": "code",
   "execution_count": 83,
   "metadata": {},
   "outputs": [
    {
     "name": "stdout",
     "output_type": "stream",
     "text": [
      "Fitting 3 folds for each of 50 candidates, totalling 150 fits\n"
     ]
    },
    {
     "name": "stderr",
     "output_type": "stream",
     "text": [
      "[Parallel(n_jobs=1)]: Using backend SequentialBackend with 1 concurrent workers.\n",
      "[Parallel(n_jobs=1)]: Done 150 out of 150 | elapsed: 17.5min finished\n"
     ]
    },
    {
     "name": "stdout",
     "output_type": "stream",
     "text": [
      "{'n_estimators': 1200, 'min_samples_split': 2, 'min_samples_leaf': 2, 'max_features': 'sqrt', 'max_depth': 40, 'bootstrap': False}\n",
      "\n",
      "The mean accuracy of a model with these hyperparameters is:\n",
      "0.605638829407566\n",
      "Best Estimator:\n",
      "RandomForestClassifier(bootstrap=False, ccp_alpha=0.0, class_weight=None,\n",
      "                       criterion='gini', max_depth=40, max_features='sqrt',\n",
      "                       max_leaf_nodes=None, max_samples=None,\n",
      "                       min_impurity_decrease=0.0, min_impurity_split=None,\n",
      "                       min_samples_leaf=2, min_samples_split=2,\n",
      "                       min_weight_fraction_leaf=0.0, n_estimators=1200,\n",
      "                       n_jobs=None, oob_score=False, random_state=8, verbose=0,\n",
      "                       warm_start=False)\n"
     ]
    }
   ],
   "source": [
    "########## Randomized Search CV ########\n",
    "# n_estimators\n",
    "n_estimators = [int(x) for x in np.linspace(start = 200, stop = 1200, num = 5)]\n",
    "\n",
    "# max_features\n",
    "max_features = ['auto', 'sqrt']\n",
    "\n",
    "# max_depth\n",
    "max_depth = [int(x) for x in np.linspace(20, 100, num = 5)]\n",
    "max_depth.append(None)\n",
    "\n",
    "# min_samples_split\n",
    "min_samples_split = [2, 5, 10]\n",
    "\n",
    "# min_samples_leaf\n",
    "min_samples_leaf = [1, 2, 4]\n",
    "\n",
    "# bootstrap\n",
    "bootstrap = [True, False]\n",
    "\n",
    "# Create the random grid\n",
    "random_grid = {'n_estimators': n_estimators,\n",
    "               'max_features': max_features,\n",
    "               'max_depth': max_depth,\n",
    "               'min_samples_split': min_samples_split,\n",
    "               'min_samples_leaf': min_samples_leaf,\n",
    "               'bootstrap': bootstrap}\n",
    "\n",
    "# First create the base model to tune\n",
    "rfc = RandomForestClassifier(random_state=8)\n",
    "\n",
    "# Definition of the random search\n",
    "random_search = RandomizedSearchCV(estimator=rfc,\n",
    "                                   param_distributions=random_grid,\n",
    "                                   n_iter=50,\n",
    "                                   scoring='accuracy',\n",
    "                                   cv=3, \n",
    "                                   verbose=1, \n",
    "                                   random_state=8)\n",
    "\n",
    "# Fit the random search model\n",
    "random_search.fit(X_train_std_final, Y_train.values.ravel())\n",
    "print(random_search.best_params_)\n",
    "print(\"\")\n",
    "print(\"The mean accuracy of a model with these hyperparameters is:\")\n",
    "print(random_search.best_score_)\n",
    "print(\"Best Estimator:\")\n",
    "print(random_search.best_estimator_)"
   ]
  },
  {
   "cell_type": "code",
   "execution_count": 84,
   "metadata": {},
   "outputs": [
    {
     "name": "stdout",
     "output_type": "stream",
     "text": [
      "Fitting 3 folds for each of 27 candidates, totalling 81 fits\n"
     ]
    },
    {
     "name": "stderr",
     "output_type": "stream",
     "text": [
      "[Parallel(n_jobs=1)]: Using backend SequentialBackend with 1 concurrent workers.\n",
      "[Parallel(n_jobs=1)]: Done  81 out of  81 | elapsed: 12.0min finished\n"
     ]
    },
    {
     "name": "stdout",
     "output_type": "stream",
     "text": [
      "{'bootstrap': False, 'max_depth': 30, 'max_features': 'sqrt', 'min_samples_leaf': 1, 'min_samples_split': 5, 'n_estimators': 1200}\n",
      "\n",
      "The mean accuracy of a model with these hyperparameters is:\n",
      "0.7506306306306306\n",
      "Best Estimator:\n",
      "RandomForestClassifier(bootstrap=False, ccp_alpha=0.0, class_weight=None,\n",
      "                       criterion='gini', max_depth=30, max_features='sqrt',\n",
      "                       max_leaf_nodes=None, max_samples=None,\n",
      "                       min_impurity_decrease=0.0, min_impurity_split=None,\n",
      "                       min_samples_leaf=1, min_samples_split=5,\n",
      "                       min_weight_fraction_leaf=0.0, n_estimators=1200,\n",
      "                       n_jobs=None, oob_score=False, random_state=8, verbose=0,\n",
      "                       warm_start=False)\n"
     ]
    }
   ],
   "source": [
    "######### GRID SEARCH RFC #####\n",
    "# Create the parameter grid based on the results of random search \n",
    "bootstrap = [False]\n",
    "max_depth = [30, 40, 50]\n",
    "max_features = ['sqrt']\n",
    "min_samples_leaf = [1, 2, 4]\n",
    "min_samples_split = [1,2,5]\n",
    "n_estimators = [1200]\n",
    "\n",
    "param_grid = {\n",
    "    'bootstrap': bootstrap,\n",
    "    'max_depth': max_depth,\n",
    "    'max_features': max_features,\n",
    "    'min_samples_leaf': min_samples_leaf,\n",
    "    'min_samples_split': min_samples_split,\n",
    "    'n_estimators': n_estimators\n",
    "}\n",
    "\n",
    "# Create a base model\n",
    "rfc = RandomForestClassifier(random_state=8)\n",
    "\n",
    "# Manually create the splits in CV in order to be able to fix a random_state (GridSearchCV doesn't have that argument)\n",
    "cv_sets = ShuffleSplit(n_splits = 3, test_size = .33, random_state = 8)\n",
    "\n",
    "# Instantiate the grid search model\n",
    "grid_search = GridSearchCV(estimator=rfc, \n",
    "                           param_grid=param_grid,\n",
    "                           scoring='accuracy',\n",
    "                           cv=cv_sets,\n",
    "                           verbose=1)\n",
    "\n",
    "# Fit the grid search to the data\n",
    "grid_search.fit(X_train_std_final, Y_train.values.ravel())\n",
    "print(grid_search.best_params_)\n",
    "print(\"\")\n",
    "print(\"The mean accuracy of a model with these hyperparameters is:\")\n",
    "print(grid_search.best_score_)\n",
    "print(\"Best Estimator:\")\n",
    "print(grid_search.best_estimator_)"
   ]
  },
  {
   "cell_type": "code",
   "execution_count": 85,
   "metadata": {},
   "outputs": [
    {
     "data": {
      "text/plain": [
       "RandomForestClassifier(bootstrap=False, ccp_alpha=0.0, class_weight=None,\n",
       "                       criterion='gini', max_depth=30, max_features='sqrt',\n",
       "                       max_leaf_nodes=None, max_samples=None,\n",
       "                       min_impurity_decrease=0.0, min_impurity_split=None,\n",
       "                       min_samples_leaf=1, min_samples_split=5,\n",
       "                       min_weight_fraction_leaf=0.0, n_estimators=1200,\n",
       "                       n_jobs=None, oob_score=False, random_state=8, verbose=0,\n",
       "                       warm_start=False)"
      ]
     },
     "execution_count": 85,
     "metadata": {},
     "output_type": "execute_result"
    }
   ],
   "source": [
    "best_rfc = RandomForestClassifier(bootstrap=False, ccp_alpha=0.0, class_weight=None,\n",
    "                       criterion='gini', max_depth=30, max_features='sqrt',\n",
    "                       max_leaf_nodes=None, max_samples=None,\n",
    "                       min_impurity_decrease=0.0, min_impurity_split=None,\n",
    "                       min_samples_leaf=1, min_samples_split=5,\n",
    "                       min_weight_fraction_leaf=0.0, n_estimators=1200,\n",
    "                       n_jobs=None, oob_score=False, random_state=8, verbose=0,\n",
    "                       warm_start=False)\n",
    "best_rfc.fit(X_train_std_final, Y_train.values.ravel())"
   ]
  },
  {
   "cell_type": "code",
   "execution_count": 86,
   "metadata": {},
   "outputs": [
    {
     "data": {
      "text/plain": [
       "0.494949494949495"
      ]
     },
     "execution_count": 86,
     "metadata": {},
     "output_type": "execute_result"
    }
   ],
   "source": [
    "y_pred = best_rfc.predict(X_test_std_final)\n",
    "best_rfc.score(X_test_std_final, Y_test.values.ravel())"
   ]
  },
  {
   "cell_type": "code",
   "execution_count": 87,
   "metadata": {},
   "outputs": [
    {
     "name": "stdout",
     "output_type": "stream",
     "text": [
      "              precision    recall  f1-score   support\n",
      "\n",
      "          -1       0.57      0.27      0.36        97\n",
      "           0       0.33      0.06      0.10        67\n",
      "           1       0.49      0.88      0.63       133\n",
      "\n",
      "    accuracy                           0.49       297\n",
      "   macro avg       0.46      0.40      0.36       297\n",
      "weighted avg       0.48      0.49      0.42       297\n",
      "\n"
     ]
    }
   ],
   "source": [
    "print(classification_report(Y_test.values.ravel(), y_pred))"
   ]
  },
  {
   "cell_type": "code",
   "execution_count": 88,
   "metadata": {},
   "outputs": [
    {
     "data": {
      "text/plain": [
       "Text(0.5, 15.0, 'Predicted label')"
      ]
     },
     "execution_count": 88,
     "metadata": {},
     "output_type": "execute_result"
    },
    {
     "data": {
      "image/png": "[encoded data removed]",
      "text/plain": [
       "<Figure size 432x288 with 2 Axes>"
      ]
     },
     "metadata": {},
     "output_type": "display_data"
    }
   ],
   "source": [
    "cnf_matrix = metrics.confusion_matrix(Y_test.values.ravel(), y_pred,labels=[1, 0, -1])\n",
    "cnf_matrix\n",
    "\n",
    "sns.heatmap(pd.DataFrame(cnf_matrix), annot=True, cmap=\"YlGnBu\" ,fmt='g',xticklabels=['Home Win', 'Draw', 'Away Win'], yticklabels=['Home Win', 'Draw', 'Away Win'])\n",
    "plt.tight_layout()\n",
    "plt.title('Confusion matrix', y=1.1)\n",
    "plt.ylabel('Actual label')\n",
    "plt.xlabel('Predicted label')"
   ]
  },
  {
   "cell_type": "code",
   "execution_count": 65,
   "metadata": {
    "collapsed": true
   },
   "outputs": [],
   "source": [
    "############### Naive Bayes #################"
   ]
  },
  {
   "cell_type": "code",
   "execution_count": 89,
   "metadata": {
    "collapsed": true
   },
   "outputs": [],
   "source": [
    "clf = GaussianNB()\n",
    "clf.fit(X_train_std_final, Y_train.values.ravel())\n",
    "\n",
    "#Predict the response for test dataset\n",
    "y_pred = clf.predict(X_test_std_final)"
   ]
  },
  {
   "cell_type": "code",
   "execution_count": 90,
   "metadata": {},
   "outputs": [
    {
     "data": {
      "text/plain": [
       "0.36363636363636365"
      ]
     },
     "execution_count": 90,
     "metadata": {},
     "output_type": "execute_result"
    }
   ],
   "source": [
    "clf.score(X_test_std_final, Y_test.values.ravel())"
   ]
  },
  {
   "cell_type": "code",
   "execution_count": 91,
   "metadata": {},
   "outputs": [
    {
     "name": "stdout",
     "output_type": "stream",
     "text": [
      "              precision    recall  f1-score   support\n",
      "\n",
      "          -1       0.59      0.27      0.37        97\n",
      "           0       0.22      0.55      0.31        67\n",
      "           1       0.55      0.34      0.42       133\n",
      "\n",
      "    accuracy                           0.36       297\n",
      "   macro avg       0.45      0.39      0.37       297\n",
      "weighted avg       0.49      0.36      0.38       297\n",
      "\n"
     ]
    }
   ],
   "source": [
    "print(classification_report(Y_test.values.ravel(), y_pred))"
   ]
  },
  {
   "cell_type": "code",
   "execution_count": 92,
   "metadata": {},
   "outputs": [
    {
     "data": {
      "text/plain": [
       "Text(0.5, 15.0, 'Predicted label')"
      ]
     },
     "execution_count": 92,
     "metadata": {},
     "output_type": "execute_result"
    },
    {
     "data": {
      "image/png": "[encoded data removed]",
      "text/plain": [
       "<Figure size 432x288 with 2 Axes>"
      ]
     },
     "metadata": {},
     "output_type": "display_data"
    }
   ],
   "source": [
    "cnf_matrix = metrics.confusion_matrix(Y_test.values.ravel(), y_pred,labels=[1, 0, -1])\n",
    "cnf_matrix\n",
    "\n",
    "sns.heatmap(pd.DataFrame(cnf_matrix), annot=True, cmap=\"YlGnBu\" ,fmt='g',xticklabels=['Home Win', 'Draw', 'Away Win'], yticklabels=['Home Win', 'Draw', 'Away Win'])\n",
    "plt.tight_layout()\n",
    "plt.title('Confusion matrix', y=1.1)\n",
    "plt.ylabel('Actual label')\n",
    "plt.xlabel('Predicted label')"
   ]
  },
  {
   "cell_type": "code",
   "execution_count": 70,
   "metadata": {
    "collapsed": true
   },
   "outputs": [],
   "source": [
    "############### KNN ##############"
   ]
  },
  {
   "cell_type": "code",
   "execution_count": 93,
   "metadata": {},
   "outputs": [
    {
     "name": "stdout",
     "output_type": "stream",
     "text": [
      "Fitting 3 folds for each of 100 candidates, totalling 300 fits\n"
     ]
    },
    {
     "name": "stderr",
     "output_type": "stream",
     "text": [
      "[Parallel(n_jobs=1)]: Using backend SequentialBackend with 1 concurrent workers.\n"
     ]
    },
    {
     "name": "stdout",
     "output_type": "stream",
     "text": [
      "{'n_neighbors': 1}\n",
      "\n",
      "The mean accuracy of a model with these hyperparameters is:\n",
      "0.6846846846846847\n",
      "Best Estimator:\n",
      "KNeighborsClassifier(algorithm='auto', leaf_size=30, metric='minkowski',\n",
      "                     metric_params=None, n_jobs=None, n_neighbors=1, p=2,\n",
      "                     weights='uniform')\n"
     ]
    },
    {
     "name": "stderr",
     "output_type": "stream",
     "text": [
      "[Parallel(n_jobs=1)]: Done 300 out of 300 | elapsed:  1.4min finished\n"
     ]
    }
   ],
   "source": [
    "# Create the parameter grid \n",
    "n_neighbors = [int(x) for x in np.linspace(start = 1, stop = 500, num = 100)]\n",
    "\n",
    "param_grid = {'n_neighbors': n_neighbors}\n",
    "\n",
    "# Create a base model\n",
    "knnc = KNeighborsClassifier()\n",
    "\n",
    "# Manually create the splits in CV in order to be able to fix a random_state (GridSearchCV doesn't have that argument)\n",
    "cv_sets = ShuffleSplit(n_splits = 3, test_size = .33, random_state = 8)\n",
    "\n",
    "# Instantiate the grid search model\n",
    "grid_search = GridSearchCV(estimator=knnc, \n",
    "                           param_grid=param_grid,\n",
    "                           scoring='accuracy',\n",
    "                           cv=cv_sets,\n",
    "                           verbose=1)\n",
    "grid_search.fit(X_train_std_final, Y_train.values.ravel())\n",
    "print(grid_search.best_params_)\n",
    "print(\"\")\n",
    "print(\"The mean accuracy of a model with these hyperparameters is:\")\n",
    "print(grid_search.best_score_)\n",
    "print(\"Best Estimator:\")\n",
    "print(grid_search.best_estimator_)"
   ]
  },
  {
   "cell_type": "code",
   "execution_count": 94,
   "metadata": {},
   "outputs": [
    {
     "data": {
      "text/plain": [
       "0.4377104377104377"
      ]
     },
     "execution_count": 94,
     "metadata": {},
     "output_type": "execute_result"
    }
   ],
   "source": [
    "\n",
    "best_knn = KNeighborsClassifier(algorithm='auto', leaf_size=30, metric='minkowski',\n",
    "                     metric_params=None, n_jobs=None, n_neighbors=1, p=2,\n",
    "                     weights='uniform')\n",
    "best_knn.fit(X_train_std_final, Y_train.values.ravel())\n",
    "\n",
    "#Predict the response for test dataset\n",
    "y_pred = best_knn.predict(X_test_std_final)\n",
    "best_knn.score(X_test_std_final, Y_test.values.ravel())"
   ]
  },
  {
   "cell_type": "code",
   "execution_count": 95,
   "metadata": {},
   "outputs": [
    {
     "name": "stdout",
     "output_type": "stream",
     "text": [
      "              precision    recall  f1-score   support\n",
      "\n",
      "          -1       0.39      0.32      0.35        97\n",
      "           0       0.29      0.30      0.30        67\n",
      "           1       0.53      0.59      0.56       133\n",
      "\n",
      "    accuracy                           0.44       297\n",
      "   macro avg       0.40      0.40      0.40       297\n",
      "weighted avg       0.43      0.44      0.43       297\n",
      "\n"
     ]
    }
   ],
   "source": [
    "print(classification_report(Y_test.values.ravel(), y_pred))"
   ]
  },
  {
   "cell_type": "code",
   "execution_count": 96,
   "metadata": {},
   "outputs": [
    {
     "data": {
      "text/plain": [
       "Text(0.5, 15.0, 'Predicted label')"
      ]
     },
     "execution_count": 96,
     "metadata": {},
     "output_type": "execute_result"
    },
    {
     "data": {
      "image/png": "[encoded data removed]",
      "text/plain": [
       "<Figure size 432x288 with 2 Axes>"
      ]
     },
     "metadata": {},
     "output_type": "display_data"
    }
   ],
   "source": [
    "cnf_matrix = metrics.confusion_matrix(Y_test.values.ravel(), y_pred,labels=[1, 0, -1])\n",
    "cnf_matrix\n",
    "\n",
    "sns.heatmap(pd.DataFrame(cnf_matrix), annot=True, cmap=\"YlGnBu\" ,fmt='g',xticklabels=['Home Win', 'Draw', 'Away Win'], yticklabels=['Home Win', 'Draw', 'Away Win'])\n",
    "plt.tight_layout()\n",
    "plt.title('Confusion matrix', y=1.1)\n",
    "plt.ylabel('Actual label')\n",
    "plt.xlabel('Predicted label')"
   ]
  },
  {
   "cell_type": "code",
   "execution_count": 47,
   "metadata": {
    "collapsed": true
   },
   "outputs": [],
   "source": [
    "########## XGBOOST ###########\n"
   ]
  },
  {
   "cell_type": "code",
   "execution_count": 97,
   "metadata": {},
   "outputs": [
    {
     "name": "stdout",
     "output_type": "stream",
     "text": [
      "Fitting 3 folds for each of 135 candidates, totalling 405 fits\n"
     ]
    },
    {
     "name": "stderr",
     "output_type": "stream",
     "text": [
      "[Parallel(n_jobs=1)]: Using backend SequentialBackend with 1 concurrent workers.\n",
      "[Parallel(n_jobs=1)]: Done 405 out of 405 | elapsed: 15.8min finished\n"
     ]
    },
    {
     "name": "stdout",
     "output_type": "stream",
     "text": [
      "{'colsample_bytree': 0.8, 'gamma': 1, 'max_depth': 5, 'min_child_weight': 1}\n",
      "\n",
      "The mean accuracy of a model with these hyperparameters is:\n",
      "0.5935135135135136\n",
      "Best Estimator:\n",
      "XGBClassifier(base_score=0.5, booster=None, colsample_bylevel=1,\n",
      "              colsample_bynode=1, colsample_bytree=0.8, gamma=1, gpu_id=-1,\n",
      "              importance_type='gain', interaction_constraints=None,\n",
      "              learning_rate=0.02, max_delta_step=0, max_depth=5,\n",
      "              min_child_weight=1, missing=nan, monotone_constraints=None,\n",
      "              n_estimators=100, n_jobs=1, nthread=1, num_class=3,\n",
      "              num_parallel_tree=1, objective='multi:softprob', random_state=0,\n",
      "              reg_alpha=0, reg_lambda=1, scale_pos_weight=None, silent=True,\n",
      "              subsample=1, tree_method=None, validate_parameters=False,\n",
      "              verbosity=None)\n"
     ]
    }
   ],
   "source": [
    "##########Grid Search CV ########\n",
    "\n",
    "min_child_weight = [1, 5, 10]\n",
    "gamma =[0.5, 1, 1.5, 2, 5]\n",
    "subsample = [0.6, 0.8, 1.0]\n",
    "colsample_bytree = [0.6, 0.8, 1.0]\n",
    "max_depth= [3, 4, 5]\n",
    "        \n",
    "\n",
    "# Create the param grid\n",
    "param_grid = {\n",
    "        'gamma': gamma,\n",
    "        'max_depth': max_depth,\n",
    "        \"min_child_weight\":min_child_weight,\n",
    "        \"colsample_bytree\": colsample_bytree\n",
    "        }\n",
    "\n",
    "# First create the base model to tune\n",
    "xgbc = xgb.XGBClassifier(learning_rate=0.02, num_class = 3,n_estimators=100, objective='multi:softmax',\n",
    "                    silent=True, nthread=1)\n",
    "cv_sets = ShuffleSplit(n_splits = 3, test_size = .33, random_state = 8)\n",
    "\n",
    "grid_search = GridSearchCV(estimator=xgbc, \n",
    "                           param_grid=param_grid,\n",
    "                           scoring='accuracy',\n",
    "                           cv=cv_sets,\n",
    "                           verbose=1)\n",
    "\n",
    "grid_search.fit(X_train_std_final, Y_train.values.ravel())\n",
    "print(grid_search.best_params_)\n",
    "print(\"\")\n",
    "print(\"The mean accuracy of a model with these hyperparameters is:\")\n",
    "print(grid_search.best_score_)\n",
    "print(\"Best Estimator:\")\n",
    "print(grid_search.best_estimator_)"
   ]
  },
  {
   "cell_type": "code",
   "execution_count": 99,
   "metadata": {},
   "outputs": [
    {
     "data": {
      "text/plain": [
       "XGBClassifier(base_score=0.5, booster=None, colsample_bylevel=1,\n",
       "              colsample_bynode=1, colsample_bytree=0.8, gamma=1, gpu_id=-1,\n",
       "              importance_type='gain', interaction_constraints=None,\n",
       "              learning_rate=0.02, max_delta_step=0, max_depth=5,\n",
       "              min_child_weight=1, missing=nan, monotone_constraints=None,\n",
       "              n_estimators=100, n_jobs=1, nthread=1, num_class=3,\n",
       "              num_parallel_tree=1, objective='multi:softprob', random_state=0,\n",
       "              reg_alpha=0, reg_lambda=1, scale_pos_weight=None, silent=True,\n",
       "              subsample=1, tree_method=None, validate_parameters=False,\n",
       "              verbosity=None)"
      ]
     },
     "execution_count": 99,
     "metadata": {},
     "output_type": "execute_result"
    }
   ],
   "source": [
    "best_xgb = xgb.XGBClassifier(base_score=0.5, booster=None, colsample_bylevel=1,\n",
    "              colsample_bynode=1, colsample_bytree=0.8, gamma=1, gpu_id=-1,\n",
    "              importance_type='gain', interaction_constraints=None,\n",
    "              learning_rate=0.02, max_delta_step=0, max_depth=5,\n",
    "              min_child_weight=1, monotone_constraints=None,\n",
    "              n_estimators=100, n_jobs=1, nthread=1, num_class=3,\n",
    "              num_parallel_tree=1, objective='multi:softprob', random_state=0,\n",
    "              reg_alpha=0, reg_lambda=1, scale_pos_weight=None, silent=True,\n",
    "              subsample=1, tree_method=None, validate_parameters=False,\n",
    "              verbosity=None)\n",
    "best_xgb.fit(X_train_std_final, Y_train.values.ravel())"
   ]
  },
  {
   "cell_type": "code",
   "execution_count": 100,
   "metadata": {},
   "outputs": [
    {
     "data": {
      "text/plain": [
       "0.4781144781144781"
      ]
     },
     "execution_count": 100,
     "metadata": {},
     "output_type": "execute_result"
    }
   ],
   "source": [
    "y_pred = best_xgb.predict(X_test_std_final)\n",
    "best_xgb.score(X_test_std_final, Y_test.values.ravel())"
   ]
  },
  {
   "cell_type": "code",
   "execution_count": 101,
   "metadata": {},
   "outputs": [
    {
     "name": "stdout",
     "output_type": "stream",
     "text": [
      "              precision    recall  f1-score   support\n",
      "\n",
      "          -1       0.55      0.43      0.49        97\n",
      "           0       0.29      0.31      0.30        67\n",
      "           1       0.53      0.59      0.56       133\n",
      "\n",
      "    accuracy                           0.48       297\n",
      "   macro avg       0.46      0.45      0.45       297\n",
      "weighted avg       0.48      0.48      0.48       297\n",
      "\n"
     ]
    }
   ],
   "source": [
    "print(classification_report(Y_test.values.ravel(), y_pred))"
   ]
  },
  {
   "cell_type": "code",
   "execution_count": 102,
   "metadata": {},
   "outputs": [
    {
     "data": {
      "text/plain": [
       "Text(0.5, 15.0, 'Predicted label')"
      ]
     },
     "execution_count": 102,
     "metadata": {},
     "output_type": "execute_result"
    },
    {
     "data": {
      "image/png": "[encoded data removed]",
      "text/plain": [
       "<Figure size 432x288 with 2 Axes>"
      ]
     },
     "metadata": {},
     "output_type": "display_data"
    }
   ],
   "source": [
    "cnf_matrix = metrics.confusion_matrix(Y_test.values.ravel(), y_pred,labels=[1, 0, -1])\n",
    "cnf_matrix\n",
    "\n",
    "sns.heatmap(pd.DataFrame(cnf_matrix), annot=True, cmap=\"YlGnBu\" ,fmt='g',xticklabels=['Home Win', 'Draw', 'Away Win'], yticklabels=['Home Win', 'Draw', 'Away Win'])\n",
    "plt.tight_layout()\n",
    "plt.title('Confusion matrix', y=1.1)\n",
    "plt.ylabel('Actual label')\n",
    "plt.xlabel('Predicted label')"
   ]
  },
  {
   "cell_type": "code",
   "execution_count": null,
   "metadata": {
    "collapsed": true
   },
   "outputs": [],
   "source": [
    "##### SVM #########"
   ]
  },
  {
   "cell_type": "code",
   "execution_count": 103,
   "metadata": {},
   "outputs": [
    {
     "name": "stdout",
     "output_type": "stream",
     "text": [
      "Fitting 3 folds for each of 50 candidates, totalling 150 fits\n"
     ]
    },
    {
     "name": "stderr",
     "output_type": "stream",
     "text": [
      "[Parallel(n_jobs=1)]: Using backend SequentialBackend with 1 concurrent workers.\n",
      "[Parallel(n_jobs=1)]: Done 150 out of 150 | elapsed:  4.4min finished\n"
     ]
    },
    {
     "name": "stdout",
     "output_type": "stream",
     "text": [
      "{'probability': True, 'kernel': 'poly', 'gamma': 1, 'degree': 5, 'C': 0.001}\n",
      "\n",
      "The mean accuracy of a model with these hyperparameters is:\n",
      "0.6377587437544611\n",
      "Best Estimator:\n",
      "SVC(C=0.001, break_ties=False, cache_size=200, class_weight=None, coef0=0.0,\n",
      "    decision_function_shape='ovr', degree=5, gamma=1, kernel='poly',\n",
      "    max_iter=-1, probability=True, random_state=8, shrinking=True, tol=0.001,\n",
      "    verbose=False)\n"
     ]
    }
   ],
   "source": [
    "######## Random Search #########\n",
    "\n",
    "# C\n",
    "C = [.0001, .001, .01]\n",
    "\n",
    "# gamma\n",
    "gamma = [.0001, .001, .01, .1, 1, 10, 100]\n",
    "\n",
    "# degree\n",
    "degree = [1, 2, 3, 4, 5]\n",
    "\n",
    "# kernel\n",
    "kernel = ['linear', 'rbf', 'poly']\n",
    "\n",
    "# probability\n",
    "probability = [True]\n",
    "\n",
    "# Create the random grid\n",
    "random_grid = {'C': C,\n",
    "              'kernel': kernel,\n",
    "              'gamma': gamma,\n",
    "              'degree': degree,\n",
    "              'probability': probability\n",
    "             }\n",
    "\n",
    "svc = svm.SVC(random_state=8)\n",
    "\n",
    "random_search = RandomizedSearchCV(estimator=svc,\n",
    "                                   param_distributions=random_grid,\n",
    "                                   n_iter=50,\n",
    "                                   scoring='accuracy',\n",
    "                                   cv=3, \n",
    "                                   verbose=1, \n",
    "                                   random_state=8)\n",
    "\n",
    "# Fit the random search model\n",
    "random_search.fit(X_train_std_final, Y_train.values.ravel())\n",
    "print(random_search.best_params_)\n",
    "print(\"\")\n",
    "print(\"The mean accuracy of a model with these hyperparameters is:\")\n",
    "print(random_search.best_score_)\n",
    "print(\"Best Estimator:\")\n",
    "print(random_search.best_estimator_)\n"
   ]
  },
  {
   "cell_type": "code",
   "execution_count": 104,
   "metadata": {},
   "outputs": [
    {
     "name": "stdout",
     "output_type": "stream",
     "text": [
      "Fitting 3 folds for each of 28 candidates, totalling 84 fits\n"
     ]
    },
    {
     "name": "stderr",
     "output_type": "stream",
     "text": [
      "[Parallel(n_jobs=1)]: Using backend SequentialBackend with 1 concurrent workers.\n",
      "[Parallel(n_jobs=1)]: Done  84 out of  84 | elapsed:  2.9min finished\n"
     ]
    },
    {
     "name": "stdout",
     "output_type": "stream",
     "text": [
      "{'C': 0.1, 'kernel': 'linear', 'probability': True}\n",
      "\n",
      "The mean accuracy of a model with these hyperparameters is:\n",
      "0.47135135135135137\n",
      "Best Estimator:\n",
      "SVC(C=0.1, break_ties=False, cache_size=200, class_weight=None, coef0=0.0,\n",
      "    decision_function_shape='ovr', degree=3, gamma='scale', kernel='linear',\n",
      "    max_iter=-1, probability=True, random_state=8, shrinking=True, tol=0.001,\n",
      "    verbose=False)\n"
     ]
    }
   ],
   "source": [
    "######## Grid Search ##########\n",
    "\n",
    "C = [.0001, .001, .01, .1]\n",
    "degree = [4, 5,7]\n",
    "gamma = [.1, 1, 10]\n",
    "probability = [True]\n",
    "\n",
    "param_grid = [\n",
    "  {'C': C, 'kernel':['linear'], 'probability':probability},\n",
    "  {'C': C, 'kernel':['poly'], 'degree':degree, 'probability':probability},\n",
    "  {'C': C, 'kernel':['rbf'], 'gamma':gamma, 'probability':probability}\n",
    "]\n",
    "\n",
    "# Create a base model\n",
    "svc = svm.SVC(random_state=8)\n",
    "\n",
    "# Manually create the splits in CV in order to be able to fix a random_state (GridSearchCV doesn't have that argument)\n",
    "cv_sets = ShuffleSplit(n_splits = 3, test_size = .33, random_state = 8)\n",
    "\n",
    "# Instantiate the grid search model\n",
    "grid_search = GridSearchCV(estimator=svc, \n",
    "                           param_grid=param_grid,\n",
    "                           scoring='accuracy',\n",
    "                           cv=cv_sets,\n",
    "                           verbose=1)\n",
    "\n",
    "grid_search.fit(X_train_std_final, Y_train.values.ravel())\n",
    "print(grid_search.best_params_)\n",
    "print(\"\")\n",
    "print(\"The mean accuracy of a model with these hyperparameters is:\")\n",
    "print(grid_search.best_score_)\n",
    "print(\"Best Estimator:\")\n",
    "print(grid_search.best_estimator_)"
   ]
  },
  {
   "cell_type": "code",
   "execution_count": 105,
   "metadata": {},
   "outputs": [
    {
     "data": {
      "text/plain": [
       "0.37373737373737376"
      ]
     },
     "execution_count": 105,
     "metadata": {},
     "output_type": "execute_result"
    }
   ],
   "source": [
    "best_svc = svm.SVC(C=0.1, break_ties=False, cache_size=200, class_weight=None, coef0=0.0,\n",
    "    decision_function_shape='ovr', degree=3, gamma='scale', kernel='linear',\n",
    "    max_iter=-1, probability=True, random_state=8, shrinking=True, tol=0.001,\n",
    "    verbose=False)\n",
    "\n",
    "best_svc.fit(X_train_std_final, Y_train.values.ravel())\n",
    "\n",
    "#Predict the response for test dataset\n",
    "y_pred = best_svc.predict(X_test_std_final)\n",
    "best_svc.score(X_test_std_final, Y_test.values.ravel())"
   ]
  },
  {
   "cell_type": "code",
   "execution_count": 106,
   "metadata": {},
   "outputs": [
    {
     "name": "stdout",
     "output_type": "stream",
     "text": [
      "              precision    recall  f1-score   support\n",
      "\n",
      "          -1       0.45      0.38      0.41        97\n",
      "           0       0.22      0.52      0.31        67\n",
      "           1       0.70      0.29      0.41       133\n",
      "\n",
      "    accuracy                           0.37       297\n",
      "   macro avg       0.45      0.40      0.38       297\n",
      "weighted avg       0.51      0.37      0.39       297\n",
      "\n"
     ]
    }
   ],
   "source": [
    "print(classification_report(Y_test.values.ravel(), y_pred))"
   ]
  },
  {
   "cell_type": "code",
   "execution_count": 107,
   "metadata": {},
   "outputs": [
    {
     "data": {
      "text/plain": [
       "Text(0.5, 15.0, 'Predicted label')"
      ]
     },
     "execution_count": 107,
     "metadata": {},
     "output_type": "execute_result"
    },
    {
     "data": {
      "image/png": "[encoded data removed]",
      "text/plain": [
       "<Figure size 432x288 with 2 Axes>"
      ]
     },
     "metadata": {},
     "output_type": "display_data"
    }
   ],
   "source": [
    "cnf_matrix = metrics.confusion_matrix(Y_test.values.ravel(), y_pred,labels=[1, 0, -1])\n",
    "cnf_matrix\n",
    "\n",
    "sns.heatmap(pd.DataFrame(cnf_matrix), annot=True, cmap=\"YlGnBu\" ,fmt='g',xticklabels=['Home Win', 'Draw', 'Away Win'], yticklabels=['Home Win', 'Draw', 'Away Win'])\n",
    "plt.tight_layout()\n",
    "plt.title('Confusion matrix', y=1.1)\n",
    "plt.ylabel('Actual label')\n",
    "plt.xlabel('Predicted label')"
   ]
  },
  {
   "cell_type": "code",
   "execution_count": null,
   "metadata": {
    "collapsed": true
   },
   "outputs": [],
   "source": []
  }
 ],
 "metadata": {
  "kernelspec": {
   "display_name": "Python 3",
   "language": "python",
   "name": "python3"
  },
  "language_info": {
   "codemirror_mode": {
    "name": "ipython",
    "version": 3
   },
   "file_extension": ".py",
   "mimetype": "text/x-python",
   "name": "python",
   "nbconvert_exporter": "python",
   "pygments_lexer": "ipython3",
   "version": "3.6.3"
  }
 },
 "nbformat": 4,
 "nbformat_minor": 2
}
